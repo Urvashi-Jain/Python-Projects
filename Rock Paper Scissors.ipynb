{
 "cells": [
  {
   "cell_type": "code",
   "execution_count": 20,
   "metadata": {},
   "outputs": [
    {
     "name": "stdout",
     "output_type": "stream",
     "text": [
      "Select any option from \n",
      " Rock \n",
      " Paper \n",
      " Scissor \n",
      "\n",
      "scissor\n",
      "\n",
      "Select any option from \n",
      " Rock \n",
      " Paper \n",
      " Scissor \n",
      "\n",
      "rock\n",
      "\n",
      "You selected: \n",
      " SCISSOR \n",
      " ROCK \n",
      "\n",
      "ROCK WINS!!!\n"
     ]
    }
   ],
   "source": [
    "choice1 = input('Select any option from \\n Rock \\n Paper \\n Scissor \\n\\n')\n",
    "choice2 = input('\\nSelect any option from \\n Rock \\n Paper \\n Scissor \\n\\n')\n",
    "\n",
    "choice1=choice1.upper()\n",
    "choice2=choice2.upper()\n",
    "\n",
    "print(\"\\nYou selected: \\n\", choice1, \"\\n\", choice2, '\\n')\n",
    "\n",
    "if choice1=='ROCK' and choice2=='PAPER':\n",
    "    print(\"PAPER WINS!!!\")\n",
    "elif choice1=='ROCK' and choice2=='SCISSOR':\n",
    "    print(\"ROCK WINS!!!\")\n",
    "elif choice1=='PAPER' and choice2=='ROCK':\n",
    "    print(\"PAPER WINS!!!\")\n",
    "elif choice1=='PAPER' and choice2=='SCISSOR':\n",
    "    print(\"SCISSOR WINS!!!\")\n",
    "elif choice1=='SCISSOR' and choice2=='ROCK':\n",
    "    print(\"ROCK WINS!!!\")\n",
    "elif choice1=='SCISSOR' and choice2=='PAPER':\n",
    "    print(\"SCISSOR WINS!!!\")\n",
    "else:\n",
    "    print('Invalid Inputs Provided')"
   ]
  },
  {
   "cell_type": "code",
   "execution_count": 11,
   "metadata": {},
   "outputs": [],
   "source": []
  },
  {
   "cell_type": "code",
   "execution_count": null,
   "metadata": {},
   "outputs": [],
   "source": []
  },
  {
   "cell_type": "code",
   "execution_count": null,
   "metadata": {},
   "outputs": [],
   "source": []
  },
  {
   "cell_type": "code",
   "execution_count": null,
   "metadata": {},
   "outputs": [],
   "source": []
  },
  {
   "cell_type": "code",
   "execution_count": null,
   "metadata": {},
   "outputs": [],
   "source": []
  }
 ],
 "metadata": {
  "kernelspec": {
   "display_name": "Python 3",
   "language": "python",
   "name": "python3"
  },
  "language_info": {
   "codemirror_mode": {
    "name": "ipython",
    "version": 3
   },
   "file_extension": ".py",
   "mimetype": "text/x-python",
   "name": "python",
   "nbconvert_exporter": "python",
   "pygments_lexer": "ipython3",
   "version": "3.7.1"
  }
 },
 "nbformat": 4,
 "nbformat_minor": 2
}
