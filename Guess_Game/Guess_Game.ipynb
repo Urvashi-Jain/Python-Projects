{
 "cells": [
  {
   "cell_type": "markdown",
   "metadata": {},
   "source": [
    "**Guess Game**\n",
    "    \n",
    "    computer will guess a random number between 1-50\n",
    "    user will get 5 chance to guess\n",
    "    \n",
    "    conditions --> \n",
    "        if user guess is below 1 or greater than 50 than print warning \n",
    "        as invalid guess please guess between 1-50 and chance will remain same \n",
    "        \n",
    "        if in between 5 chances your guess is less than computer guess print a hint such that your guess is low\n",
    "        \n",
    "        or if user guess is high than print hint as your guess is high\n",
    "        \n",
    "        if he guess correct than print whola you have won the game and stop your program \n",
    "        \n",
    "        else if in 5 chances your user will not able to guess your number than print you such a looser and computer guess also "
   ]
  },
  {
   "cell_type": "code",
   "execution_count": 3,
   "metadata": {
    "scrolled": true
   },
   "outputs": [
    {
     "name": "stdout",
     "output_type": "stream",
     "text": [
      "Please guess 5 numbers between 1-50\n",
      "Enter number between 1-50: 55\n",
      "You have selected incorrect number. Please choose number between 1-50.\n",
      "Enter number between 1-50: 10\n",
      "Your guess is low\n",
      "Enter number between 1-50: 30\n",
      "Your guess is low\n",
      "Enter number between 1-50: 40\n",
      "Your guess is low\n",
      "Enter number between 1-50: 49\n",
      "Your guess is high\n",
      "Enter number between 1-50: 48\n",
      "Your guess is high\n"
     ]
    }
   ],
   "source": [
    "import random\n",
    "random_num = random.randint(1,50)\n",
    "print(\"Please guess 5 numbers between 1-50\")\n",
    "n=0\n",
    "count=0\n",
    "while n<5:\n",
    "    number = int(input(\"Enter number between 1-50: \"))\n",
    "    if number>=1 and number<=50:\n",
    "        if number<random_num:\n",
    "            print(\"Your guess is low\")\n",
    "        elif number>random_num:\n",
    "            print(\"Your guess is high\")\n",
    "        else:\n",
    "            print(\"Whola! You have won the game.\")\n",
    "            break\n",
    "        n+=1\n",
    "    else:\n",
    "        print(\"You have selected incorrect number. Please choose number between 1-50.\")\n",
    "        count+=1\n",
    "        if count>=5:\n",
    "            print(\"You are such a looser!!\")\n",
    "            print(f'Correct Guess Number is: {random_num}')\n",
    "            break\n",
    "        continue"
   ]
  },
  {
   "cell_type": "code",
   "execution_count": null,
   "metadata": {},
   "outputs": [],
   "source": []
  }
 ],
 "metadata": {
  "kernelspec": {
   "display_name": "Python 3",
   "language": "python",
   "name": "python3"
  },
  "language_info": {
   "codemirror_mode": {
    "name": "ipython",
    "version": 3
   },
   "file_extension": ".py",
   "mimetype": "text/x-python",
   "name": "python",
   "nbconvert_exporter": "python",
   "pygments_lexer": "ipython3",
   "version": "3.7.3"
  }
 },
 "nbformat": 4,
 "nbformat_minor": 2
}
