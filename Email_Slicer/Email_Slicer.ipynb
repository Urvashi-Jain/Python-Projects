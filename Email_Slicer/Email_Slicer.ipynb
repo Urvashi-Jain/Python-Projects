{
 "cells": [
  {
   "cell_type": "markdown",
   "metadata": {},
   "source": [
    "### What do we mean by email slicer?\n",
    "\n",
    "When we extract username and domain name from an email address, that is known as email slicer."
   ]
  },
  {
   "cell_type": "code",
   "execution_count": 3,
   "metadata": {},
   "outputs": [
    {
     "name": "stdout",
     "output_type": "stream",
     "text": [
      "Enter any email address: abc@xyz.com\n",
      "Email Address : abc@xyz.com \n",
      "Username : abc \n",
      "Domain Name : xyz.com\n"
     ]
    }
   ],
   "source": [
    "email = input(\"Enter any email address: \")\n",
    "username = email[0:email.index('@')]\n",
    "domain_name = email[email.index('@')+1:]\n",
    "print(f\"Email Address : {email} \\nUsername : {username} \\nDomain Name : {domain_name}\")"
   ]
  },
  {
   "cell_type": "code",
   "execution_count": null,
   "metadata": {},
   "outputs": [],
   "source": []
  }
 ],
 "metadata": {
  "kernelspec": {
   "display_name": "Python 3",
   "language": "python",
   "name": "python3"
  },
  "language_info": {
   "codemirror_mode": {
    "name": "ipython",
    "version": 3
   },
   "file_extension": ".py",
   "mimetype": "text/x-python",
   "name": "python",
   "nbconvert_exporter": "python",
   "pygments_lexer": "ipython3",
   "version": "3.7.3"
  }
 },
 "nbformat": 4,
 "nbformat_minor": 2
}
