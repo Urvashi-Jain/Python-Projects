{
 "cells": [
  {
   "cell_type": "code",
   "execution_count": 4,
   "metadata": {},
   "outputs": [],
   "source": [
    "import random"
   ]
  },
  {
   "cell_type": "code",
   "execution_count": 37,
   "metadata": {},
   "outputs": [
    {
     "name": "stdout",
     "output_type": "stream",
     "text": [
      "Enter any no between 2 & 10\t12\n",
      "Please enter a number between 2 & 10\n",
      "Enter any no between 2 & 10\t12\n",
      "Sorry! Please try again!\n"
     ]
    }
   ],
   "source": [
    "num = int(input('Enter any no between 2 & 10\\t'))\n",
    "\n",
    "if num<=10:\n",
    "    pass\n",
    "else:\n",
    "    print('Please enter a number between 2 & 10')\n",
    "    num = int(input('Enter any no between 2 & 10\\t'))\n",
    "    if num>10:\n",
    "        print('Sorry! Please try again!')\n",
    "    \n",
    "if num<=10:\n",
    "    print(f'You entered {num}')\n",
    "    dice = []\n",
    "    sum = 0\n",
    "    product = 1\n",
    "    for i in range(num):\n",
    "        dice1 = random.randint(1,6)\n",
    "        dice.append(dice1)\n",
    "    print(f'Numbers on dice: {dice}')\n",
    "    for i in range(num):\n",
    "        sum = sum+dice[i]\n",
    "    print(f'Sum: {sum}')\n",
    "    for i in range(num):\n",
    "        product = product*dice[i]\n",
    "    print(f'Product: {product}')"
   ]
  },
  {
   "cell_type": "code",
   "execution_count": null,
   "metadata": {},
   "outputs": [],
   "source": []
  },
  {
   "cell_type": "code",
   "execution_count": null,
   "metadata": {},
   "outputs": [],
   "source": []
  },
  {
   "cell_type": "code",
   "execution_count": null,
   "metadata": {},
   "outputs": [],
   "source": []
  },
  {
   "cell_type": "code",
   "execution_count": null,
   "metadata": {},
   "outputs": [],
   "source": []
  }
 ],
 "metadata": {
  "kernelspec": {
   "display_name": "Python 3",
   "language": "python",
   "name": "python3"
  },
  "language_info": {
   "codemirror_mode": {
    "name": "ipython",
    "version": 3
   },
   "file_extension": ".py",
   "mimetype": "text/x-python",
   "name": "python",
   "nbconvert_exporter": "python",
   "pygments_lexer": "ipython3",
   "version": "3.7.1"
  }
 },
 "nbformat": 4,
 "nbformat_minor": 2
}
